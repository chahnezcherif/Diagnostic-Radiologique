{
 "cells": [
  {
   "cell_type": "code",
   "execution_count": 1,
   "id": "42220625",
   "metadata": {},
   "outputs": [],
   "source": [
    "# data_cleaning.ipynb\n",
    "# Ce notebook charge le CSV brut, nettoie les données patient et labels,\n",
    "# vérifie la présence des images, crée des colonnes binaires pour les pathologies,\n",
    "# et sauvegarde un CSV propre (cleaned_data.csv) pour la suite du projet.\n",
    "import os\n",
    "import pandas as pd\n",
    "import logging"
   ]
  },
  {
   "cell_type": "code",
   "execution_count": 3,
   "id": "572b76ce",
   "metadata": {},
   "outputs": [],
   "source": [
    "# --- Configuration Logging ---\n",
    "os.makedirs('../logs', exist_ok=True)\n",
    "logging.basicConfig(\n",
    "    filename='../logs/image_errors.log',\n",
    "    level=logging.WARNING,\n",
    "    format='%(asctime)s - %(levelname)s - %(message)s'\n",
    ")"
   ]
  },
  {
   "cell_type": "code",
   "execution_count": 4,
   "id": "283841f2",
   "metadata": {},
   "outputs": [],
   "source": [
    "# --- Définition des chemins ---\n",
    "data_path = '../data/raw'\n",
    "raw_csv = os.path.join(data_path, 'data_Entry_2017.csv')\n",
    "processed_dir = '../data/processed'\n",
    "os.makedirs(processed_dir, exist_ok=True)\n",
    "clean_csv = os.path.join(processed_dir, 'cleaned_data.csv')\n",
    "images_dir = os.path.join(data_path, 'images')\n"
   ]
  },
  {
   "cell_type": "code",
   "execution_count": 5,
   "id": "00a0e624",
   "metadata": {},
   "outputs": [
    {
     "name": "stdout",
     "output_type": "stream",
     "text": [
      "CSV chargé avec succès (112120 lignes)\n"
     ]
    }
   ],
   "source": [
    "# --- Chargement du CSV ---\n",
    "try:\n",
    "    df = pd.read_csv(raw_csv)\n",
    "    print(f\"CSV chargé avec succès ({len(df)} lignes)\")\n",
    "except Exception as e:\n",
    "    logging.error(f\"Erreur lors du chargement du CSV : {e}\")\n",
    "    raise\n",
    "\n",
    "# --- Nettoyage des colonnes ---\n",
    "df.columns = df.columns.str.strip()\n",
    "df = df[['Image Index', 'Finding Labels', 'Patient Age', 'Patient Gender', 'Patient ID']]\n",
    "\n",
    "# --- Suppression des doublons ---\n",
    "df.drop_duplicates(subset=['Image Index'], inplace=True)\n",
    "\n",
    "# --- Suppression des valeurs manquantes ---\n",
    "df.dropna(subset=['Finding Labels', 'Patient ID'], inplace=True)\n",
    "\n",
    "# --- Correction des types ---\n",
    "df['Patient Age'] = pd.to_numeric(df['Patient Age'], errors='coerce')\n",
    "df['Patient Gender'] = df['Patient Gender'].astype(str).str.upper().str.strip()\n",
    "\n",
    "# --- Filtrage logique ---\n",
    "df = df[(df['Patient Age'] > 0) & (df['Patient Age'] < 120)]\n",
    "df = df[df['Patient Gender'].isin(['M', 'F'])]\n",
    "\n",
    "# --- Nettoyage des labels ---\n",
    "df['Finding Labels'] = df['Finding Labels'].str.replace(r'No Finding', 'Normal', regex=True)\n",
    "df['Finding Labels'] = df['Finding Labels'].str.replace(r'\\|+', '|', regex=True)\n",
    "df['Finding Labels'] = df['Finding Labels'].str.strip()\n",
    "\n",
    "# --- Vérification des images existantes ---\n",
    "existing_files = set(os.listdir(images_dir))\n",
    "missing_images = set(df['Image Index']) - existing_files\n",
    "if missing_images:\n",
    "    logging.warning(f\"Images manquantes : {len(missing_images)} fichiers\")\n",
    "    for img in list(missing_images)[:10]:\n",
    "        logging.warning(f\" - {img}\")\n",
    "df = df[df['Image Index'].isin(existing_files)]\n",
    "\n",
    "# --- Conversion des labels en colonnes binaires ---\n",
    "pathologies = ['Atelectasis', 'Cardiomegaly', 'Effusion', 'Infiltration',\n",
    "               'Mass', 'Nodule', 'Pneumonia', 'Pneumothorax', 'Consolidation',\n",
    "               'Edema', 'Emphysema', 'Fibrosis', 'Pleural_Thickening', 'Hernia', 'Normal']\n",
    "\n",
    "for p in pathologies:\n",
    "    df[p] = df['Finding Labels'].apply(lambda x: 1 if p in x else 0)\n",
    "\n",
    "# Supprimer les pathologies rares (<20 images)\n",
    "rare_diseases = [p for p in pathologies if df[p].sum() < 20]\n",
    "if rare_diseases:\n",
    "    df.drop(columns=rare_diseases, inplace=True)\n",
    "    pathologies = [p for p in pathologies if p not in rare_diseases]\n",
    "    print(f\"Pathologies rares supprimées : {rare_diseases}\")\n"
   ]
  },
  {
   "cell_type": "code",
   "execution_count": 6,
   "id": "751ecacd",
   "metadata": {},
   "outputs": [
    {
     "name": "stdout",
     "output_type": "stream",
     "text": [
      "Nettoyage terminé :\n",
      "- Nombre total d’entrées : 4999\n",
      "- Âge moyen : 51.81\n",
      "- Répartition du genre :\n",
      "Patient Gender\n",
      "M    2608\n",
      "F    2391\n",
      "Name: count, dtype: int64\n",
      "- Pathologies conservées : ['Atelectasis', 'Cardiomegaly', 'Effusion', 'Infiltration', 'Mass', 'Nodule', 'Pneumonia', 'Pneumothorax', 'Consolidation', 'Edema', 'Emphysema', 'Fibrosis', 'Pleural_Thickening', 'Hernia', 'Normal']\n"
     ]
    }
   ],
   "source": [
    "\n",
    "print(\"Nettoyage terminé :\")\n",
    "print(f\"- Nombre total d’entrées : {len(df)}\")\n",
    "print(f\"- Âge moyen : {df['Patient Age'].mean():.2f}\")\n",
    "print(f\"- Répartition du genre :\\n{df['Patient Gender'].value_counts()}\")\n",
    "print(f\"- Pathologies conservées : {pathologies}\")\n"
   ]
  },
  {
   "cell_type": "code",
   "execution_count": 7,
   "id": "a120ef62",
   "metadata": {},
   "outputs": [
    {
     "name": "stdout",
     "output_type": "stream",
     "text": [
      "CSV nettoyé sauvegardé : ../data/processed\\cleaned_data.csv\n"
     ]
    }
   ],
   "source": [
    "# --- Sauvegarde du CSV nettoyé ---\n",
    "df.to_csv(clean_csv, index=False)\n",
    "print(f\"CSV nettoyé sauvegardé : {clean_csv}\")"
   ]
  }
 ],
 "metadata": {
  "kernelspec": {
   "display_name": "venv",
   "language": "python",
   "name": "python3"
  },
  "language_info": {
   "codemirror_mode": {
    "name": "ipython",
    "version": 3
   },
   "file_extension": ".py",
   "mimetype": "text/x-python",
   "name": "python",
   "nbconvert_exporter": "python",
   "pygments_lexer": "ipython3",
   "version": "3.13.7"
  }
 },
 "nbformat": 4,
 "nbformat_minor": 5
}
